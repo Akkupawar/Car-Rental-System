{
  "nbformat": 4,
  "nbformat_minor": 0,
  "metadata": {
    "colab": {
      "name": "MinorProject",
      "provenance": [],
      "collapsed_sections": [],
      "include_colab_link": true
    },
    "kernelspec": {
      "name": "python3",
      "display_name": "Python 3"
    }
  },
  "cells": [
    {
      "cell_type": "markdown",
      "metadata": {
        "id": "view-in-github",
        "colab_type": "text"
      },
      "source": [
        "<a href=\"https://colab.research.google.com/github/Akkupawar/Car-Rental-System/blob/main/MinorProject.ipynb\" target=\"_parent\"><img src=\"https://colab.research.google.com/assets/colab-badge.svg\" alt=\"Open In Colab\"/></a>"
      ]
    },
    {
      "cell_type": "code",
      "metadata": {
        "id": "I6ZvoXMkTTzV"
      },
      "source": [
        "# Minor Project : Image Classification using SVC"
      ],
      "execution_count": 2,
      "outputs": []
    },
    {
      "cell_type": "code",
      "metadata": {
        "id": "IbK5deIgL7Ho"
      },
      "source": [
        "import pandas as pd\n",
        "from skimage.io import imread\n",
        "from skimage.transform import resize"
      ],
      "execution_count": 3,
      "outputs": []
    },
    {
      "cell_type": "code",
      "metadata": {
        "colab": {
          "base_uri": "https://localhost:8080/"
        },
        "id": "sJTge7HLM77V",
        "outputId": "0575b7bd-a1c7-4df1-bc63-698e1046dca7"
      },
      "source": [
        "import os\n",
        "import numpy as np\n",
        "import cv2\n",
        "from skimage.io import imread\n",
        "import matplotlib.pyplot as plt\n",
        "\n",
        "\n",
        "datafolder = '/content/drive/MyDrive/MinorProject/Images'\n",
        "categories = ['Cats','Dogs']\n",
        "target = []\n",
        "images = []\n",
        "flat_data = []\n",
        "\n",
        "for category in categories:\n",
        "    class_num = categories.index(category)\n",
        "    path = os.path.join(datafolder, category)\n",
        "    #dirs = os.listdir(path)\n",
        "    print(path)\n",
        "    for img in os.listdir(path):\n",
        "        img_array = cv2.imread(os.path.join(path,img))\n",
        "        gray = cv2.cvtColor(img_array,cv2.COLOR_BGR2GRAY,)\n",
        "        img_resize = resize(gray,(150,150,3))\n",
        "        images.append(gray)\n",
        "        flat_data.append(img_resize.flatten())\n",
        "        target.append(class_num)\n",
        "\n",
        "flat_data = np.array(flat_data)\n",
        "target = np.array(target)\n",
        "images = np.array(images)\n"
      ],
      "execution_count": 4,
      "outputs": [
        {
          "output_type": "stream",
          "text": [
            "/content/drive/MyDrive/MinorProject/Images/Cats\n",
            "/content/drive/MyDrive/MinorProject/Images/Dogs\n"
          ],
          "name": "stdout"
        },
        {
          "output_type": "stream",
          "text": [
            "/usr/local/lib/python3.7/dist-packages/ipykernel_launcher.py:29: VisibleDeprecationWarning: Creating an ndarray from ragged nested sequences (which is a list-or-tuple of lists-or-tuples-or ndarrays with different lengths or shapes) is deprecated. If you meant to do this, you must specify 'dtype=object' when creating the ndarray\n"
          ],
          "name": "stderr"
        }
      ]
    },
    {
      "cell_type": "code",
      "metadata": {
        "colab": {
          "base_uri": "https://localhost:8080/",
          "height": 282
        },
        "id": "VAWwPGVgAjPc",
        "outputId": "f061acfa-ef8b-42d0-919c-2320a2346ad0"
      },
      "source": [
        "unique,count = np.unique(target, return_counts= True)\n",
        "plt.bar(categories, count)\n"
      ],
      "execution_count": 5,
      "outputs": [
        {
          "output_type": "execute_result",
          "data": {
            "text/plain": [
              "<BarContainer object of 2 artists>"
            ]
          },
          "metadata": {
            "tags": []
          },
          "execution_count": 5
        },
        {
          "output_type": "display_data",
          "data": {
            "image/png": "[encoded data removed]",
            "text/plain": [
              "<Figure size 432x288 with 1 Axes>"
            ]
          },
          "metadata": {
            "tags": [],
            "needs_background": "light"
          }
        }
      ]
    },
    {
      "cell_type": "code",
      "metadata": {
        "colab": {
          "base_uri": "https://localhost:8080/"
        },
        "id": "R3b3PQTOmXTV",
        "outputId": "c90fa826-f3a8-4268-cd18-e79a1e56dc65"
      },
      "source": [
        "from google.colab import drive\n",
        "drive.mount('/content/drive')\n"
      ],
      "execution_count": 6,
      "outputs": [
        {
          "output_type": "stream",
          "text": [
            "Drive already mounted at /content/drive; to attempt to forcibly remount, call drive.mount(\"/content/drive\", force_remount=True).\n"
          ],
          "name": "stdout"
        }
      ]
    },
    {
      "cell_type": "code",
      "metadata": {
        "colab": {
          "base_uri": "https://localhost:8080/"
        },
        "id": "kUGybspSFE14",
        "outputId": "a4d47842-e3b4-4da0-b1ff-a084d396021f"
      },
      "source": [
        "flat_data[0]"
      ],
      "execution_count": 7,
      "outputs": [
        {
          "output_type": "execute_result",
          "data": {
            "text/plain": [
              "array([0.21713725, 0.21713725, 0.21713725, ..., 0.26666667, 0.26666667,\n",
              "       0.26666667])"
            ]
          },
          "metadata": {
            "tags": []
          },
          "execution_count": 7
        }
      ]
    },
    {
      "cell_type": "code",
      "metadata": {
        "colab": {
          "base_uri": "https://localhost:8080/"
        },
        "id": "ULU3X7IxG__x",
        "outputId": "d800cba7-a493-4252-8d80-c316dc3c95e0"
      },
      "source": [
        "target"
      ],
      "execution_count": 8,
      "outputs": [
        {
          "output_type": "execute_result",
          "data": {
            "text/plain": [
              "array([0, 0, 0, 0, 0, 0, 0, 0, 0, 0, 0, 0, 0, 0, 0, 0, 0, 0, 0, 0, 0, 0,\n",
              "       0, 0, 0, 0, 0, 0, 0, 0, 0, 0, 0, 0, 0, 0, 0, 0, 0, 0, 1, 1, 1, 1,\n",
              "       1, 1, 1, 1, 1, 1, 1, 1, 1, 1, 1, 1, 1, 1, 1, 1, 1, 1, 1, 1, 1, 1,\n",
              "       1, 1, 1, 1, 1, 1, 1, 1, 1, 1, 1, 1, 1, 1, 1])"
            ]
          },
          "metadata": {
            "tags": []
          },
          "execution_count": 8
        }
      ]
    },
    {
      "cell_type": "code",
      "metadata": {
        "id": "dyoTVLm6OMpr",
        "colab": {
          "base_uri": "https://localhost:8080/",
          "height": 253
        },
        "outputId": "e0a4a2de-59cf-4d8c-86d2-e41d3a67b347"
      },
      "source": [
        "# Creating Data Frame\n",
        "df = pd.DataFrame(flat_data)\n",
        "df['Target'] = target\n",
        "df.head()"
      ],
      "execution_count": 9,
      "outputs": [
        {
          "output_type": "execute_result",
          "data": {
            "text/html": [
              "<div>\n",
              "<style scoped>\n",
              "    .dataframe tbody tr th:only-of-type {\n",
              "        vertical-align: middle;\n",
              "    }\n",
              "\n",
              "    .dataframe tbody tr th {\n",
              "        vertical-align: top;\n",
              "    }\n",
              "\n",
              "    .dataframe thead th {\n",
              "        text-align: right;\n",
              "    }\n",
              "</style>\n",
              "<table border=\"1\" class=\"dataframe\">\n",
              "  <thead>\n",
              "    <tr style=\"text-align: right;\">\n",
              "      <th></th>\n",
              "      <th>0</th>\n",
              "      <th>1</th>\n",
              "      <th>2</th>\n",
              "      <th>3</th>\n",
              "      <th>4</th>\n",
              "      <th>5</th>\n",
              "      <th>6</th>\n",
              "      <th>7</th>\n",
              "      <th>8</th>\n",
              "      <th>9</th>\n",
              "      <th>10</th>\n",
              "      <th>11</th>\n",
              "      <th>12</th>\n",
              "      <th>13</th>\n",
              "      <th>14</th>\n",
              "      <th>15</th>\n",
              "      <th>16</th>\n",
              "      <th>17</th>\n",
              "      <th>18</th>\n",
              "      <th>19</th>\n",
              "      <th>20</th>\n",
              "      <th>21</th>\n",
              "      <th>22</th>\n",
              "      <th>23</th>\n",
              "      <th>24</th>\n",
              "      <th>25</th>\n",
              "      <th>26</th>\n",
              "      <th>27</th>\n",
              "      <th>28</th>\n",
              "      <th>29</th>\n",
              "      <th>30</th>\n",
              "      <th>31</th>\n",
              "      <th>32</th>\n",
              "      <th>33</th>\n",
              "      <th>34</th>\n",
              "      <th>35</th>\n",
              "      <th>36</th>\n",
              "      <th>37</th>\n",
              "      <th>38</th>\n",
              "      <th>39</th>\n",
              "      <th>...</th>\n",
              "      <th>67461</th>\n",
              "      <th>67462</th>\n",
              "      <th>67463</th>\n",
              "      <th>67464</th>\n",
              "      <th>67465</th>\n",
              "      <th>67466</th>\n",
              "      <th>67467</th>\n",
              "      <th>67468</th>\n",
              "      <th>67469</th>\n",
              "      <th>67470</th>\n",
              "      <th>67471</th>\n",
              "      <th>67472</th>\n",
              "      <th>67473</th>\n",
              "      <th>67474</th>\n",
              "      <th>67475</th>\n",
              "      <th>67476</th>\n",
              "      <th>67477</th>\n",
              "      <th>67478</th>\n",
              "      <th>67479</th>\n",
              "      <th>67480</th>\n",
              "      <th>67481</th>\n",
              "      <th>67482</th>\n",
              "      <th>67483</th>\n",
              "      <th>67484</th>\n",
              "      <th>67485</th>\n",
              "      <th>67486</th>\n",
              "      <th>67487</th>\n",
              "      <th>67488</th>\n",
              "      <th>67489</th>\n",
              "      <th>67490</th>\n",
              "      <th>67491</th>\n",
              "      <th>67492</th>\n",
              "      <th>67493</th>\n",
              "      <th>67494</th>\n",
              "      <th>67495</th>\n",
              "      <th>67496</th>\n",
              "      <th>67497</th>\n",
              "      <th>67498</th>\n",
              "      <th>67499</th>\n",
              "      <th>Target</th>\n",
              "    </tr>\n",
              "  </thead>\n",
              "  <tbody>\n",
              "    <tr>\n",
              "      <th>0</th>\n",
              "      <td>0.217137</td>\n",
              "      <td>0.217137</td>\n",
              "      <td>0.217137</td>\n",
              "      <td>0.259294</td>\n",
              "      <td>0.259294</td>\n",
              "      <td>0.259294</td>\n",
              "      <td>0.311928</td>\n",
              "      <td>0.311928</td>\n",
              "      <td>0.311928</td>\n",
              "      <td>0.348699</td>\n",
              "      <td>0.348699</td>\n",
              "      <td>0.348699</td>\n",
              "      <td>0.392098</td>\n",
              "      <td>0.392098</td>\n",
              "      <td>0.392098</td>\n",
              "      <td>0.431033</td>\n",
              "      <td>0.431033</td>\n",
              "      <td>0.431033</td>\n",
              "      <td>0.450882</td>\n",
              "      <td>0.450882</td>\n",
              "      <td>0.450882</td>\n",
              "      <td>0.454745</td>\n",
              "      <td>0.454745</td>\n",
              "      <td>0.454745</td>\n",
              "      <td>0.435948</td>\n",
              "      <td>0.435948</td>\n",
              "      <td>0.435948</td>\n",
              "      <td>0.430399</td>\n",
              "      <td>0.430399</td>\n",
              "      <td>0.430399</td>\n",
              "      <td>0.450314</td>\n",
              "      <td>0.450314</td>\n",
              "      <td>0.450314</td>\n",
              "      <td>0.461353</td>\n",
              "      <td>0.461353</td>\n",
              "      <td>0.461353</td>\n",
              "      <td>0.478333</td>\n",
              "      <td>0.478333</td>\n",
              "      <td>0.478333</td>\n",
              "      <td>0.487863</td>\n",
              "      <td>...</td>\n",
              "      <td>0.269837</td>\n",
              "      <td>0.269837</td>\n",
              "      <td>0.269837</td>\n",
              "      <td>0.267150</td>\n",
              "      <td>0.267150</td>\n",
              "      <td>0.267150</td>\n",
              "      <td>0.277451</td>\n",
              "      <td>0.277451</td>\n",
              "      <td>0.277451</td>\n",
              "      <td>0.289869</td>\n",
              "      <td>0.289869</td>\n",
              "      <td>0.289869</td>\n",
              "      <td>0.286098</td>\n",
              "      <td>0.286098</td>\n",
              "      <td>0.286098</td>\n",
              "      <td>0.281373</td>\n",
              "      <td>0.281373</td>\n",
              "      <td>0.281373</td>\n",
              "      <td>0.274510</td>\n",
              "      <td>0.274510</td>\n",
              "      <td>0.274510</td>\n",
              "      <td>0.274510</td>\n",
              "      <td>0.274510</td>\n",
              "      <td>0.274510</td>\n",
              "      <td>0.274510</td>\n",
              "      <td>0.274510</td>\n",
              "      <td>0.274510</td>\n",
              "      <td>0.270588</td>\n",
              "      <td>0.270588</td>\n",
              "      <td>0.270588</td>\n",
              "      <td>0.263072</td>\n",
              "      <td>0.263072</td>\n",
              "      <td>0.263072</td>\n",
              "      <td>0.266667</td>\n",
              "      <td>0.266667</td>\n",
              "      <td>0.266667</td>\n",
              "      <td>0.266667</td>\n",
              "      <td>0.266667</td>\n",
              "      <td>0.266667</td>\n",
              "      <td>0</td>\n",
              "    </tr>\n",
              "    <tr>\n",
              "      <th>1</th>\n",
              "      <td>0.555984</td>\n",
              "      <td>0.555984</td>\n",
              "      <td>0.555984</td>\n",
              "      <td>0.500255</td>\n",
              "      <td>0.500255</td>\n",
              "      <td>0.500255</td>\n",
              "      <td>0.474559</td>\n",
              "      <td>0.474559</td>\n",
              "      <td>0.474559</td>\n",
              "      <td>0.635222</td>\n",
              "      <td>0.635222</td>\n",
              "      <td>0.635222</td>\n",
              "      <td>0.858882</td>\n",
              "      <td>0.858882</td>\n",
              "      <td>0.858882</td>\n",
              "      <td>0.858225</td>\n",
              "      <td>0.858225</td>\n",
              "      <td>0.858225</td>\n",
              "      <td>0.870575</td>\n",
              "      <td>0.870575</td>\n",
              "      <td>0.870575</td>\n",
              "      <td>0.871765</td>\n",
              "      <td>0.871765</td>\n",
              "      <td>0.871765</td>\n",
              "      <td>0.867542</td>\n",
              "      <td>0.867542</td>\n",
              "      <td>0.867542</td>\n",
              "      <td>0.857539</td>\n",
              "      <td>0.857539</td>\n",
              "      <td>0.857539</td>\n",
              "      <td>0.868353</td>\n",
              "      <td>0.868353</td>\n",
              "      <td>0.868353</td>\n",
              "      <td>0.855114</td>\n",
              "      <td>0.855114</td>\n",
              "      <td>0.855114</td>\n",
              "      <td>0.833987</td>\n",
              "      <td>0.833987</td>\n",
              "      <td>0.833987</td>\n",
              "      <td>0.759882</td>\n",
              "      <td>...</td>\n",
              "      <td>0.461765</td>\n",
              "      <td>0.461765</td>\n",
              "      <td>0.461765</td>\n",
              "      <td>0.425516</td>\n",
              "      <td>0.425516</td>\n",
              "      <td>0.425516</td>\n",
              "      <td>0.440176</td>\n",
              "      <td>0.440176</td>\n",
              "      <td>0.440176</td>\n",
              "      <td>0.458824</td>\n",
              "      <td>0.458824</td>\n",
              "      <td>0.458824</td>\n",
              "      <td>0.454788</td>\n",
              "      <td>0.454788</td>\n",
              "      <td>0.454788</td>\n",
              "      <td>0.414510</td>\n",
              "      <td>0.414510</td>\n",
              "      <td>0.414510</td>\n",
              "      <td>0.359804</td>\n",
              "      <td>0.359804</td>\n",
              "      <td>0.359804</td>\n",
              "      <td>0.383716</td>\n",
              "      <td>0.383716</td>\n",
              "      <td>0.383716</td>\n",
              "      <td>0.405373</td>\n",
              "      <td>0.405373</td>\n",
              "      <td>0.405373</td>\n",
              "      <td>0.387827</td>\n",
              "      <td>0.387827</td>\n",
              "      <td>0.387827</td>\n",
              "      <td>0.293742</td>\n",
              "      <td>0.293742</td>\n",
              "      <td>0.293742</td>\n",
              "      <td>0.364431</td>\n",
              "      <td>0.364431</td>\n",
              "      <td>0.364431</td>\n",
              "      <td>0.560062</td>\n",
              "      <td>0.560062</td>\n",
              "      <td>0.560062</td>\n",
              "      <td>0</td>\n",
              "    </tr>\n",
              "    <tr>\n",
              "      <th>2</th>\n",
              "      <td>0.650980</td>\n",
              "      <td>0.650980</td>\n",
              "      <td>0.650980</td>\n",
              "      <td>0.651550</td>\n",
              "      <td>0.651550</td>\n",
              "      <td>0.651550</td>\n",
              "      <td>0.642615</td>\n",
              "      <td>0.642615</td>\n",
              "      <td>0.642615</td>\n",
              "      <td>0.344914</td>\n",
              "      <td>0.344914</td>\n",
              "      <td>0.344914</td>\n",
              "      <td>0.593144</td>\n",
              "      <td>0.593144</td>\n",
              "      <td>0.593144</td>\n",
              "      <td>0.651621</td>\n",
              "      <td>0.651621</td>\n",
              "      <td>0.651621</td>\n",
              "      <td>0.660876</td>\n",
              "      <td>0.660876</td>\n",
              "      <td>0.660876</td>\n",
              "      <td>0.666955</td>\n",
              "      <td>0.666955</td>\n",
              "      <td>0.666955</td>\n",
              "      <td>0.668784</td>\n",
              "      <td>0.668784</td>\n",
              "      <td>0.668784</td>\n",
              "      <td>0.668051</td>\n",
              "      <td>0.668051</td>\n",
              "      <td>0.668051</td>\n",
              "      <td>0.598687</td>\n",
              "      <td>0.598687</td>\n",
              "      <td>0.598687</td>\n",
              "      <td>0.358304</td>\n",
              "      <td>0.358304</td>\n",
              "      <td>0.358304</td>\n",
              "      <td>0.670275</td>\n",
              "      <td>0.670275</td>\n",
              "      <td>0.670275</td>\n",
              "      <td>0.671235</td>\n",
              "      <td>...</td>\n",
              "      <td>0.812772</td>\n",
              "      <td>0.812772</td>\n",
              "      <td>0.812772</td>\n",
              "      <td>0.809098</td>\n",
              "      <td>0.809098</td>\n",
              "      <td>0.809098</td>\n",
              "      <td>0.823791</td>\n",
              "      <td>0.823791</td>\n",
              "      <td>0.823791</td>\n",
              "      <td>0.758982</td>\n",
              "      <td>0.758982</td>\n",
              "      <td>0.758982</td>\n",
              "      <td>0.710052</td>\n",
              "      <td>0.710052</td>\n",
              "      <td>0.710052</td>\n",
              "      <td>0.714262</td>\n",
              "      <td>0.714262</td>\n",
              "      <td>0.714262</td>\n",
              "      <td>0.608481</td>\n",
              "      <td>0.608481</td>\n",
              "      <td>0.608481</td>\n",
              "      <td>0.275688</td>\n",
              "      <td>0.275688</td>\n",
              "      <td>0.275688</td>\n",
              "      <td>0.259813</td>\n",
              "      <td>0.259813</td>\n",
              "      <td>0.259813</td>\n",
              "      <td>0.350555</td>\n",
              "      <td>0.350555</td>\n",
              "      <td>0.350555</td>\n",
              "      <td>0.395464</td>\n",
              "      <td>0.395464</td>\n",
              "      <td>0.395464</td>\n",
              "      <td>0.438533</td>\n",
              "      <td>0.438533</td>\n",
              "      <td>0.438533</td>\n",
              "      <td>0.404167</td>\n",
              "      <td>0.404167</td>\n",
              "      <td>0.404167</td>\n",
              "      <td>0</td>\n",
              "    </tr>\n",
              "    <tr>\n",
              "      <th>3</th>\n",
              "      <td>0.040309</td>\n",
              "      <td>0.040309</td>\n",
              "      <td>0.040309</td>\n",
              "      <td>0.050444</td>\n",
              "      <td>0.050444</td>\n",
              "      <td>0.050444</td>\n",
              "      <td>0.084083</td>\n",
              "      <td>0.084083</td>\n",
              "      <td>0.084083</td>\n",
              "      <td>0.165826</td>\n",
              "      <td>0.165826</td>\n",
              "      <td>0.165826</td>\n",
              "      <td>0.289712</td>\n",
              "      <td>0.289712</td>\n",
              "      <td>0.289712</td>\n",
              "      <td>0.189076</td>\n",
              "      <td>0.189076</td>\n",
              "      <td>0.189076</td>\n",
              "      <td>0.074928</td>\n",
              "      <td>0.074928</td>\n",
              "      <td>0.074928</td>\n",
              "      <td>0.028954</td>\n",
              "      <td>0.028954</td>\n",
              "      <td>0.028954</td>\n",
              "      <td>0.026484</td>\n",
              "      <td>0.026484</td>\n",
              "      <td>0.026484</td>\n",
              "      <td>0.022248</td>\n",
              "      <td>0.022248</td>\n",
              "      <td>0.022248</td>\n",
              "      <td>0.043190</td>\n",
              "      <td>0.043190</td>\n",
              "      <td>0.043190</td>\n",
              "      <td>0.083804</td>\n",
              "      <td>0.083804</td>\n",
              "      <td>0.083804</td>\n",
              "      <td>0.103420</td>\n",
              "      <td>0.103420</td>\n",
              "      <td>0.103420</td>\n",
              "      <td>0.097098</td>\n",
              "      <td>...</td>\n",
              "      <td>0.465699</td>\n",
              "      <td>0.465699</td>\n",
              "      <td>0.465699</td>\n",
              "      <td>0.406715</td>\n",
              "      <td>0.406715</td>\n",
              "      <td>0.406715</td>\n",
              "      <td>0.421595</td>\n",
              "      <td>0.421595</td>\n",
              "      <td>0.421595</td>\n",
              "      <td>0.423054</td>\n",
              "      <td>0.423054</td>\n",
              "      <td>0.423054</td>\n",
              "      <td>0.453407</td>\n",
              "      <td>0.453407</td>\n",
              "      <td>0.453407</td>\n",
              "      <td>0.404431</td>\n",
              "      <td>0.404431</td>\n",
              "      <td>0.404431</td>\n",
              "      <td>0.425956</td>\n",
              "      <td>0.425956</td>\n",
              "      <td>0.425956</td>\n",
              "      <td>0.394558</td>\n",
              "      <td>0.394558</td>\n",
              "      <td>0.394558</td>\n",
              "      <td>0.380876</td>\n",
              "      <td>0.380876</td>\n",
              "      <td>0.380876</td>\n",
              "      <td>0.333826</td>\n",
              "      <td>0.333826</td>\n",
              "      <td>0.333826</td>\n",
              "      <td>0.262898</td>\n",
              "      <td>0.262898</td>\n",
              "      <td>0.262898</td>\n",
              "      <td>0.183320</td>\n",
              "      <td>0.183320</td>\n",
              "      <td>0.183320</td>\n",
              "      <td>0.173516</td>\n",
              "      <td>0.173516</td>\n",
              "      <td>0.173516</td>\n",
              "      <td>0</td>\n",
              "    </tr>\n",
              "    <tr>\n",
              "      <th>4</th>\n",
              "      <td>0.115882</td>\n",
              "      <td>0.115882</td>\n",
              "      <td>0.115882</td>\n",
              "      <td>0.098756</td>\n",
              "      <td>0.098756</td>\n",
              "      <td>0.098756</td>\n",
              "      <td>0.090753</td>\n",
              "      <td>0.090753</td>\n",
              "      <td>0.090753</td>\n",
              "      <td>0.096666</td>\n",
              "      <td>0.096666</td>\n",
              "      <td>0.096666</td>\n",
              "      <td>0.099758</td>\n",
              "      <td>0.099758</td>\n",
              "      <td>0.099758</td>\n",
              "      <td>0.094967</td>\n",
              "      <td>0.094967</td>\n",
              "      <td>0.094967</td>\n",
              "      <td>0.091851</td>\n",
              "      <td>0.091851</td>\n",
              "      <td>0.091851</td>\n",
              "      <td>0.093597</td>\n",
              "      <td>0.093597</td>\n",
              "      <td>0.093597</td>\n",
              "      <td>0.088388</td>\n",
              "      <td>0.088388</td>\n",
              "      <td>0.088388</td>\n",
              "      <td>0.093010</td>\n",
              "      <td>0.093010</td>\n",
              "      <td>0.093010</td>\n",
              "      <td>0.094751</td>\n",
              "      <td>0.094751</td>\n",
              "      <td>0.094751</td>\n",
              "      <td>0.073538</td>\n",
              "      <td>0.073538</td>\n",
              "      <td>0.073538</td>\n",
              "      <td>0.076980</td>\n",
              "      <td>0.076980</td>\n",
              "      <td>0.076980</td>\n",
              "      <td>0.079627</td>\n",
              "      <td>...</td>\n",
              "      <td>0.398535</td>\n",
              "      <td>0.398535</td>\n",
              "      <td>0.398535</td>\n",
              "      <td>0.388734</td>\n",
              "      <td>0.388734</td>\n",
              "      <td>0.388734</td>\n",
              "      <td>0.445003</td>\n",
              "      <td>0.445003</td>\n",
              "      <td>0.445003</td>\n",
              "      <td>0.488030</td>\n",
              "      <td>0.488030</td>\n",
              "      <td>0.488030</td>\n",
              "      <td>0.473957</td>\n",
              "      <td>0.473957</td>\n",
              "      <td>0.473957</td>\n",
              "      <td>0.545473</td>\n",
              "      <td>0.545473</td>\n",
              "      <td>0.545473</td>\n",
              "      <td>0.602398</td>\n",
              "      <td>0.602398</td>\n",
              "      <td>0.602398</td>\n",
              "      <td>0.503653</td>\n",
              "      <td>0.503653</td>\n",
              "      <td>0.503653</td>\n",
              "      <td>0.454653</td>\n",
              "      <td>0.454653</td>\n",
              "      <td>0.454653</td>\n",
              "      <td>0.379151</td>\n",
              "      <td>0.379151</td>\n",
              "      <td>0.379151</td>\n",
              "      <td>0.458408</td>\n",
              "      <td>0.458408</td>\n",
              "      <td>0.458408</td>\n",
              "      <td>0.584130</td>\n",
              "      <td>0.584130</td>\n",
              "      <td>0.584130</td>\n",
              "      <td>0.543588</td>\n",
              "      <td>0.543588</td>\n",
              "      <td>0.543588</td>\n",
              "      <td>0</td>\n",
              "    </tr>\n",
              "  </tbody>\n",
              "</table>\n",
              "<p>5 rows × 67501 columns</p>\n",
              "</div>"
            ],
            "text/plain": [
              "          0         1         2         3  ...     67497     67498     67499  Target\n",
              "0  0.217137  0.217137  0.217137  0.259294  ...  0.266667  0.266667  0.266667       0\n",
              "1  0.555984  0.555984  0.555984  0.500255  ...  0.560062  0.560062  0.560062       0\n",
              "2  0.650980  0.650980  0.650980  0.651550  ...  0.404167  0.404167  0.404167       0\n",
              "3  0.040309  0.040309  0.040309  0.050444  ...  0.173516  0.173516  0.173516       0\n",
              "4  0.115882  0.115882  0.115882  0.098756  ...  0.543588  0.543588  0.543588       0\n",
              "\n",
              "[5 rows x 67501 columns]"
            ]
          },
          "metadata": {
            "tags": []
          },
          "execution_count": 9
        }
      ]
    },
    {
      "cell_type": "code",
      "metadata": {
        "id": "2V6x20Xo4a2-"
      },
      "source": [
        "# Splitting the data into Training and Testing\n",
        "\n",
        "from sklearn.model_selection import train_test_split\n",
        "x_train,x_test,y_train,y_test = train_test_split(flat_data,target,test_size=0.2,random_state=109)"
      ],
      "execution_count": 10,
      "outputs": []
    },
    {
      "cell_type": "code",
      "metadata": {
        "colab": {
          "base_uri": "https://localhost:8080/"
        },
        "id": "dQzYcx3L_OJi",
        "outputId": "4da853a6-d597-475e-d511-8e0c7aa6c9cc"
      },
      "source": [
        "print(y_train.shape)\n",
        "print(y_test.shape)"
      ],
      "execution_count": 11,
      "outputs": [
        {
          "output_type": "stream",
          "text": [
            "(64,)\n",
            "(17,)\n"
          ],
          "name": "stdout"
        }
      ]
    },
    {
      "cell_type": "code",
      "metadata": {
        "colab": {
          "base_uri": "https://localhost:8080/"
        },
        "id": "OxYvehNq_O4q",
        "outputId": "8f0729d5-a633-4ba6-ac95-87b7c491d741"
      },
      "source": [
        "np.unique(y_train,return_counts=True)"
      ],
      "execution_count": 12,
      "outputs": [
        {
          "output_type": "execute_result",
          "data": {
            "text/plain": [
              "(array([0, 1]), array([32, 32]))"
            ]
          },
          "metadata": {
            "tags": []
          },
          "execution_count": 12
        }
      ]
    },
    {
      "cell_type": "code",
      "metadata": {
        "colab": {
          "base_uri": "https://localhost:8080/"
        },
        "id": "CPmOHRby_R4-",
        "outputId": "e46f71fc-59d1-47ac-84ca-d3173d95f44c"
      },
      "source": [
        "np.unique(y_test,return_counts=True)"
      ],
      "execution_count": 13,
      "outputs": [
        {
          "output_type": "execute_result",
          "data": {
            "text/plain": [
              "(array([0, 1]), array([8, 9]))"
            ]
          },
          "metadata": {
            "tags": []
          },
          "execution_count": 13
        }
      ]
    },
    {
      "cell_type": "code",
      "metadata": {
        "colab": {
          "base_uri": "https://localhost:8080/"
        },
        "id": "jz4CT6wM_T_6",
        "outputId": "be96bb0d-4094-48ab-8ee9-a5e1b7594943"
      },
      "source": [
        "from sklearn.svm import SVC\n",
        "model = SVC()\n",
        "\n",
        "model.fit(x_train,y_train)"
      ],
      "execution_count": 14,
      "outputs": [
        {
          "output_type": "execute_result",
          "data": {
            "text/plain": [
              "SVC(C=1.0, break_ties=False, cache_size=200, class_weight=None, coef0=0.0,\n",
              "    decision_function_shape='ovr', degree=3, gamma='scale', kernel='rbf',\n",
              "    max_iter=-1, probability=False, random_state=None, shrinking=True,\n",
              "    tol=0.001, verbose=False)"
            ]
          },
          "metadata": {
            "tags": []
          },
          "execution_count": 14
        }
      ]
    },
    {
      "cell_type": "code",
      "metadata": {
        "id": "X4txjPuH_XPf"
      },
      "source": [
        "y_pred = model.predict(x_test)"
      ],
      "execution_count": 15,
      "outputs": []
    },
    {
      "cell_type": "code",
      "metadata": {
        "colab": {
          "base_uri": "https://localhost:8080/"
        },
        "id": "xyAFEZ4Z_ZOL",
        "outputId": "5b852afb-2cdf-44a9-c2c2-b4a938cc0129"
      },
      "source": [
        "from sklearn.metrics import accuracy_score,confusion_matrix,classification_report\n",
        "accuracy_score(y_pred,y_test)"
      ],
      "execution_count": 16,
      "outputs": [
        {
          "output_type": "execute_result",
          "data": {
            "text/plain": [
              "0.4117647058823529"
            ]
          },
          "metadata": {
            "tags": []
          },
          "execution_count": 16
        }
      ]
    },
    {
      "cell_type": "code",
      "metadata": {
        "colab": {
          "base_uri": "https://localhost:8080/"
        },
        "id": "XltTwb2U_aso",
        "outputId": "c15d8937-8232-4253-97ef-d4eee7012bdd"
      },
      "source": [
        "confusion_matrix(y_pred,y_test)"
      ],
      "execution_count": 17,
      "outputs": [
        {
          "output_type": "execute_result",
          "data": {
            "text/plain": [
              "array([[3, 5],\n",
              "       [5, 4]])"
            ]
          },
          "metadata": {
            "tags": []
          },
          "execution_count": 17
        }
      ]
    },
    {
      "cell_type": "code",
      "metadata": {
        "colab": {
          "base_uri": "https://localhost:8080/"
        },
        "id": "oU9wFLffFOuY",
        "outputId": "0122686f-3cf2-4e0f-c7f6-984a5a5ad20e"
      },
      "source": [
        "print(classification_report(y_pred,y_test))"
      ],
      "execution_count": 18,
      "outputs": [
        {
          "output_type": "stream",
          "text": [
            "              precision    recall  f1-score   support\n",
            "\n",
            "           0       0.38      0.38      0.38         8\n",
            "           1       0.44      0.44      0.44         9\n",
            "\n",
            "    accuracy                           0.41        17\n",
            "   macro avg       0.41      0.41      0.41        17\n",
            "weighted avg       0.41      0.41      0.41        17\n",
            "\n"
          ],
          "name": "stdout"
        }
      ]
    },
    {
      "cell_type": "code",
      "metadata": {
        "colab": {
          "base_uri": "https://localhost:8080/"
        },
        "id": "Zq-f6f4jFQjR",
        "outputId": "7168d43b-ade0-4d7c-eb2d-83da73d334fd"
      },
      "source": [
        "from sklearn.model_selection import GridSearchCV\n",
        "from sklearn import svm\n",
        "param_grid = param = [{\n",
        "    'C':[1,10,100,1000],'kernel':['linear']}]\n",
        "svc = svm.SVC(probability=True)\n",
        "clf = GridSearchCV(svc,param_grid)\n",
        "clf.fit(x_train,y_train)"
      ],
      "execution_count": 19,
      "outputs": [
        {
          "output_type": "execute_result",
          "data": {
            "text/plain": [
              "GridSearchCV(cv=None, error_score=nan,\n",
              "             estimator=SVC(C=1.0, break_ties=False, cache_size=200,\n",
              "                           class_weight=None, coef0=0.0,\n",
              "                           decision_function_shape='ovr', degree=3,\n",
              "                           gamma='scale', kernel='rbf', max_iter=-1,\n",
              "                           probability=True, random_state=None, shrinking=True,\n",
              "                           tol=0.001, verbose=False),\n",
              "             iid='deprecated', n_jobs=None,\n",
              "             param_grid=[{'C': [1, 10, 100, 1000], 'kernel': ['linear']}],\n",
              "             pre_dispatch='2*n_jobs', refit=True, return_train_score=False,\n",
              "             scoring=None, verbose=0)"
            ]
          },
          "metadata": {
            "tags": []
          },
          "execution_count": 19
        }
      ]
    },
    {
      "cell_type": "code",
      "metadata": {
        "colab": {
          "base_uri": "https://localhost:8080/"
        },
        "id": "uHbcjoBeFUCE",
        "outputId": "96e3ff58-fc7f-43c2-a00e-1b8ec3e21cf9"
      },
      "source": [
        "y_pred = clf.predict(x_test)\n",
        "y_pred"
      ],
      "execution_count": 20,
      "outputs": [
        {
          "output_type": "execute_result",
          "data": {
            "text/plain": [
              "array([1, 0, 0, 0, 1, 1, 0, 0, 1, 1, 0, 1, 1, 1, 0, 0, 1])"
            ]
          },
          "metadata": {
            "tags": []
          },
          "execution_count": 20
        }
      ]
    },
    {
      "cell_type": "code",
      "metadata": {
        "colab": {
          "base_uri": "https://localhost:8080/"
        },
        "id": "6lRgFNcpFW3n",
        "outputId": "7434b8f8-0c90-44b5-afb2-c940bc9efab5"
      },
      "source": [
        "y_test"
      ],
      "execution_count": 21,
      "outputs": [
        {
          "output_type": "execute_result",
          "data": {
            "text/plain": [
              "array([0, 0, 1, 1, 0, 1, 1, 0, 0, 1, 1, 0, 1, 0, 0, 1, 1])"
            ]
          },
          "metadata": {
            "tags": []
          },
          "execution_count": 21
        }
      ]
    },
    {
      "cell_type": "code",
      "metadata": {
        "colab": {
          "base_uri": "https://localhost:8080/"
        },
        "id": "AzFlfZg8Fh6f",
        "outputId": "a913c342-aeae-469a-f992-7bfe31e060f2"
      },
      "source": [
        "from sklearn.metrics import accuracy_score,confusion_matrix\n",
        "accuracy_score(y_pred,y_test)\n"
      ],
      "execution_count": 22,
      "outputs": [
        {
          "output_type": "execute_result",
          "data": {
            "text/plain": [
              "0.4117647058823529"
            ]
          },
          "metadata": {
            "tags": []
          },
          "execution_count": 22
        }
      ]
    },
    {
      "cell_type": "code",
      "metadata": {
        "id": "m9Hlxbc4oOLF",
        "colab": {
          "base_uri": "https://localhost:8080/"
        },
        "outputId": "b6cea6df-9f02-4b8d-933a-78d3dadf625d"
      },
      "source": [
        "confusion_matrix(y_pred,y_test)"
      ],
      "execution_count": 23,
      "outputs": [
        {
          "output_type": "execute_result",
          "data": {
            "text/plain": [
              "array([[3, 5],\n",
              "       [5, 4]])"
            ]
          },
          "metadata": {
            "tags": []
          },
          "execution_count": 23
        }
      ]
    },
    {
      "cell_type": "code",
      "metadata": {
        "id": "o8sFSdpRFlsR"
      },
      "source": [
        "import joblib\n",
        "joblib.dump(clf,open('img_class.p','wb'))"
      ],
      "execution_count": 31,
      "outputs": []
    },
    {
      "cell_type": "code",
      "metadata": {
        "colab": {
          "base_uri": "https://localhost:8080/"
        },
        "id": "8TdQxfLGpq4O",
        "outputId": "d1f1269d-2c5b-4af9-e4eb-b761d83c56fb"
      },
      "source": [
        "!pip install streamlit --quiet\n",
        "!pip install pyngrok==4.1.1 --quiet\n",
        "from pyngrok import ngrok"
      ],
      "execution_count": 25,
      "outputs": [
        {
          "output_type": "stream",
          "text": [
            "\u001b[K     |████████████████████████████████| 7.0MB 5.6MB/s \n",
            "\u001b[K     |████████████████████████████████| 4.6MB 33.3MB/s \n",
            "\u001b[K     |████████████████████████████████| 112kB 43.8MB/s \n",
            "\u001b[K     |████████████████████████████████| 163kB 35.6MB/s \n",
            "\u001b[K     |████████████████████████████████| 81kB 5.6MB/s \n",
            "\u001b[K     |████████████████████████████████| 122kB 51.3MB/s \n",
            "\u001b[K     |████████████████████████████████| 71kB 5.6MB/s \n",
            "\u001b[?25h  Building wheel for blinker (setup.py) ... \u001b[?25l\u001b[?25hdone\n",
            "\u001b[31mERROR: google-colab 1.0.0 has requirement ipykernel~=4.10, but you'll have ipykernel 5.5.0 which is incompatible.\u001b[0m\n",
            "  Building wheel for pyngrok (setup.py) ... \u001b[?25l\u001b[?25hdone\n"
          ],
          "name": "stdout"
        }
      ]
    },
    {
      "cell_type": "code",
      "metadata": {
        "colab": {
          "base_uri": "https://localhost:8080/"
        },
        "id": "zfM50k-rpv1I",
        "outputId": "c03dc445-5b7c-4ce6-d940-5e363afd8923"
      },
      "source": [
        "%%writefile app.py\n",
        "import pickle\n",
        "import joblib\n",
        "import streamlit as st\n",
        "import numpy as np\n",
        "from skimage.io import imread\n",
        "from skimage.transform import resize\n",
        "from PIL import Image\n",
        "st.title('Clasification Of Image')\n",
        "st.text('Upload Image Here : ')\n",
        "\n",
        "model = joblib.load(open('img_class.p','rb'))\n",
        "\n",
        "Uploaded_file = st.file_uploader(\"Choose an image :\",type = \"jpg\")\n",
        "if Uploaded_file is not None:\n",
        "  img = Image.open(Uploaded_file)\n",
        "  st.image(img,caption='Uploaded Image')\n",
        "\n",
        "if st.button('PREDICT'):\n",
        "  categories = ['Cats','Dogs']\n",
        "  st.write('Result :')\n",
        "  flat_data=[]\n",
        "  img = np.array(img)\n",
        "  img_resize = resize(img,(150,150,3))\n",
        "  flat_data.append(img_resize.flatten())\n",
        "  flat_data = np.array(flat_data)\n",
        "  y_out = model.predict(flat_data)\n",
        "  y_out = categories[y_out[0]]\n",
        "  st.title(f'PREDICTED OUTPUT : {y_out}')"
      ],
      "execution_count": 30,
      "outputs": [
        {
          "output_type": "stream",
          "text": [
            "Overwriting app.py\n"
          ],
          "name": "stdout"
        }
      ]
    },
    {
      "cell_type": "code",
      "metadata": {
        "colab": {
          "base_uri": "https://localhost:8080/"
        },
        "id": "Ou9WxsMMp0Qu",
        "outputId": "0b6dc826-8a01-49f0-8678-bca28cb0cde1"
      },
      "source": [
        "!nohup streamlit run app.py &\n",
        "url = ngrok.connect(port='8501')\n",
        "print(url)"
      ],
      "execution_count": 27,
      "outputs": [
        {
          "output_type": "stream",
          "text": [
            "nohup: appending output to 'nohup.out'\n",
            "http://58be4ea4f6f0.ngrok.io\n"
          ],
          "name": "stdout"
        }
      ]
    }
  ]
}